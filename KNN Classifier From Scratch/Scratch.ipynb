{
 "cells": [
  {
   "cell_type": "code",
   "execution_count": 1,
   "id": "chemical-harris",
   "metadata": {},
   "outputs": [],
   "source": [
    "import numpy as np"
   ]
  },
  {
   "cell_type": "code",
   "execution_count": 16,
   "id": "stock-craps",
   "metadata": {},
   "outputs": [],
   "source": [
    "X = np.loadtxt(\"Data.txt\", delimiter=',' )\n",
    "y = np.loadtxt(\"Targets.txt\")"
   ]
  },
  {
   "cell_type": "code",
   "execution_count": 62,
   "id": "minimal-newcastle",
   "metadata": {},
   "outputs": [
    {
     "name": "stdout",
     "output_type": "stream",
     "text": [
      "Accuracy: 0.9333333333333333\n"
     ]
    }
   ],
   "source": [
    "## Naive intuitive Approach\n",
    "## Inefficient\n",
    "\n",
    "class KNearestNeighbors():\n",
    "    def __init__(self, k):\n",
    "        self.k = k\n",
    "        \n",
    "    def train(self, X, y):\n",
    "        self.X_train = X\n",
    "        self.y_train = y\n",
    "        \n",
    "    def predict(self, X_test):\n",
    "        distances = self.compute_distances(X_test)\n",
    "        return self.predict_labels(distances)\n",
    "    \n",
    "    def compute_distances(self, X_test):\n",
    "        num_test = X_test.shape[0]\n",
    "        num_train = self.X_train.shape[0]\n",
    "        distances = np.zeros((num_test, num_train))\n",
    "        \n",
    "        for i in range(num_test):\n",
    "            for j in range(num_train):\n",
    "                ## Euclidean Distance\n",
    "                distances[i][j] = np.sqrt(np.sum( (X_test[i, :] - self.X_train[j, :])**2 ))\n",
    "        return distances\n",
    "        \n",
    "    def predict_labels(self, distances):\n",
    "        num_test = distances.shape[0]\n",
    "        y_pred = np.zeros(num_test)\n",
    "        \n",
    "        for i in range(num_test):\n",
    "            ## Gives us the order of indices that will sort the array\n",
    "            y_indices = np.argsort(distances[i, :])\n",
    "            k_closest_classes = self.y_train[y_indices[:self.k]].astype(int)\n",
    "            ## bincount->Counts of classes. \n",
    "            ## argmax-> Class that has occured most.\n",
    "            y_pred[i] = np.argmax(np.bincount(k_closest_classes))\n",
    "        \n",
    "        return y_pred\n",
    "\n",
    "knn = KNearestNeighbors(k = 3)\n",
    "knn.train(X, y)\n",
    "y_pred = knn.predict(X)\n",
    "print('Accuracy: {}'.format( sum(y_pred == y)/y.shape[0] ))"
   ]
  },
  {
   "cell_type": "code",
   "execution_count": 63,
   "id": "ordered-bargain",
   "metadata": {},
   "outputs": [
    {
     "name": "stdout",
     "output_type": "stream",
     "text": [
      "Accuracy: 0.9333333333333333\n"
     ]
    }
   ],
   "source": [
    "## Using Numpy Broadcasitng\n",
    "\n",
    "class KNearestNeighbors():\n",
    "    def __init__(self, k):\n",
    "        self.k = k\n",
    "        \n",
    "    def train(self, X, y):\n",
    "        self.X_train = X\n",
    "        self.y_train = y\n",
    "        \n",
    "    def predict(self, X_test):\n",
    "        distances = self.compute_distances(X_test)\n",
    "        return self.predict_labels(distances)\n",
    "    \n",
    "    def compute_distances(self, X_test):\n",
    "        num_test = X_test.shape[0]\n",
    "        num_train = self.X_train.shape[0]\n",
    "        distances = np.zeros((num_test, num_train))\n",
    "        ## Using numpy broadcasting.\n",
    "        for i in range(num_test):\n",
    "            ## X_train and X_test[i, :] does not match no of rows. So, numpy will substact x_train[i, :] from each of X_train's row.\n",
    "            ## Element wise square.\n",
    "            ## Summing on features/ row wise sum. -> np.sum([[1, 2, 3], [1, 2, 3]], axis=1) = [6, 6].\n",
    "            ## Element wise sruare_root.\n",
    "            distances[i, :] = np.sqrt( np.sum( (self.X_train - X_test[i, :])**2, axis = 1 ) )\n",
    "        \n",
    "        return distances\n",
    "    \n",
    "    def predict_labels(self, distances):\n",
    "        num_test = distances.shape[0]\n",
    "        y_pred = np.zeros(num_test)\n",
    "        \n",
    "        for i in range(num_test):\n",
    "            ## Gives us the order of indices that will sort the array\n",
    "            y_indices = np.argsort(distances[i, :])\n",
    "            k_closest_classes = self.y_train[y_indices[:self.k]].astype(int)\n",
    "            ## bincount->Counts of classes. \n",
    "            ## argmax-> Class that has occured most.\n",
    "            y_pred[i] = np.argmax(np.bincount(k_closest_classes))\n",
    "        \n",
    "        return y_pred\n",
    "\n",
    "knn = KNearestNeighbors(k = 3)\n",
    "knn.train(X, y)\n",
    "y_pred = knn.predict(X)\n",
    "print('Accuracy: {}'.format( sum(y_pred == y)/y.shape[0] ))"
   ]
  }
 ],
 "metadata": {
  "kernelspec": {
   "display_name": "Python 3",
   "language": "python",
   "name": "python3"
  },
  "language_info": {
   "codemirror_mode": {
    "name": "ipython",
    "version": 3
   },
   "file_extension": ".py",
   "mimetype": "text/x-python",
   "name": "python",
   "nbconvert_exporter": "python",
   "pygments_lexer": "ipython3",
   "version": "3.8.8"
  }
 },
 "nbformat": 4,
 "nbformat_minor": 5
}
