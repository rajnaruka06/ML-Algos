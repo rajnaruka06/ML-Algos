{
 "cells": [
  {
   "cell_type": "code",
   "execution_count": 1,
   "id": "champion-amsterdam",
   "metadata": {},
   "outputs": [],
   "source": [
    "import numpy as np\n",
    "from sklearn.datasets import make_blobs\n",
    "np.random.seed(1)"
   ]
  },
  {
   "cell_type": "code",
   "execution_count": 2,
   "id": "mathematical-bailey",
   "metadata": {},
   "outputs": [],
   "source": [
    "class LogisticRegression():\n",
    "    def __init__(self, X, learning_rate = 0.1, num_iter = 10000):\n",
    "        self.lr = learning_rate\n",
    "        self.num_iter = num_iter\n",
    "        ## m training Examples.\n",
    "        ## Each has n features.\n",
    "        self.m, self.n = X.shape\n",
    "        \n",
    "    def train(self, X, y):\n",
    "        ## (m, n)dot(n, 1) -> (m, 1)\n",
    "        self.weights = np.zeros((self.n, 1))\n",
    "        self.bias = 0\n",
    "        for iter_ in range(self.num_iter):\n",
    "            ## Calculate Hypothesis\n",
    "            y_pred = self.sigmoid( np.dot(X, self.weights) + self.bias )\n",
    "            ## Calculate Cost\n",
    "            # normalizing over m examples -> 1/m\n",
    "            cost = (-1/self.m)*np.sum(y*np.log(y_pred) + (1-y)*np.log(1-y_pred))\n",
    "            ## BackProp\n",
    "            dw = (1/self.m)* np.dot(X.T, (y_pred - y))\n",
    "            db = (1/self.m)* np.sum(y_pred - y)\n",
    "            \n",
    "            self.weights -= self.lr*dw\n",
    "            self.bias -= self.lr*db\n",
    "            \n",
    "            if iter_%500 == 0 :\n",
    "                print(\"Cost after {} iterations = {}\".format(iter_, cost))\n",
    "    \n",
    "    def predict(self, X):\n",
    "        y_predict = self.sigmoid( np.dot(X, self.weights) + self.bias )\n",
    "        y_predict_labels = y_predict>0.5\n",
    "        return y_predict_labels\n",
    "    \n",
    "    def sigmoid(self, z):\n",
    "        return 1/(1 + np.exp(-z))\n",
    "    "
   ]
  },
  {
   "cell_type": "code",
   "execution_count": 3,
   "id": "delayed-attack",
   "metadata": {},
   "outputs": [
    {
     "name": "stdout",
     "output_type": "stream",
     "text": [
      "Cost after 0 iterations = 0.6931471805599454\n",
      "Cost after 500 iterations = 0.002079579912937815\n",
      "Cost after 1000 iterations = 0.0011600933459921785\n",
      "Cost after 1500 iterations = 0.0008258063780163841\n",
      "Cost after 2000 iterations = 0.0006491300880665668\n",
      "Cost after 2500 iterations = 0.0005386383710060062\n",
      "Cost after 3000 iterations = 0.000462485964887221\n",
      "Cost after 3500 iterations = 0.00040655599758581133\n",
      "Cost after 4000 iterations = 0.0003635915165060212\n",
      "Cost after 4500 iterations = 0.0003294643750900871\n",
      "Cost after 5000 iterations = 0.0003016459230941666\n",
      "Cost after 5500 iterations = 0.00027849712539468606\n",
      "Cost after 6000 iterations = 0.00025890699961499065\n",
      "Cost after 6500 iterations = 0.00024209467763958742\n",
      "Cost after 7000 iterations = 0.00022749458542860117\n",
      "Cost after 7500 iterations = 0.00021468659572144473\n",
      "Cost after 8000 iterations = 0.00020335181473262736\n",
      "Cost after 8500 iterations = 0.00019324363328644721\n",
      "Cost after 9000 iterations = 0.0001841682130989886\n",
      "Cost after 9500 iterations = 0.0001759709959926113\n",
      "Accuracy = 1.0 \n"
     ]
    }
   ],
   "source": [
    "X, y = make_blobs(n_samples = 1000, centers = 2)\n",
    "\n",
    "## Diamentionality needs to be correct while doing element wise multiplication\n",
    "## (1000, ) -> (1000, 1)\n",
    "y = y[:, np.newaxis]\n",
    "\n",
    "lr = LogisticRegression(X)\n",
    "lr.train(X, y)\n",
    "y_pred = lr.predict(X)\n",
    "\n",
    "print(f\"Accuracy = {np.sum( y == y_pred)/X.shape[0]} \")"
   ]
  },
  {
   "cell_type": "code",
   "execution_count": null,
   "id": "wound-guide",
   "metadata": {},
   "outputs": [],
   "source": []
  }
 ],
 "metadata": {
  "kernelspec": {
   "display_name": "Python 3",
   "language": "python",
   "name": "python3"
  },
  "language_info": {
   "codemirror_mode": {
    "name": "ipython",
    "version": 3
   },
   "file_extension": ".py",
   "mimetype": "text/x-python",
   "name": "python",
   "nbconvert_exporter": "python",
   "pygments_lexer": "ipython3",
   "version": "3.8.8"
  }
 },
 "nbformat": 4,
 "nbformat_minor": 5
}
